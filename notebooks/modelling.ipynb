{
 "cells": [
  {
   "attachments": {},
   "cell_type": "markdown",
   "metadata": {},
   "source": [
    "In this notebook, you should implement a first version of a working machine learning model to predict the age of an Abalone.\n",
    "\n",
    "A few guidelines:\n",
    "- The model does not have to be complex. A simple linear regression model is enough.\n",
    "- You should use MLflow to track your experiments. You can use the MLflow UI to compare your experiments.\n",
    "- Do not push any MLflow data to the repository. Only the code to run the experiments is interesting and should be pushed."
   ]
  },
  {
   "cell_type": "code",
   "execution_count": null,
   "metadata": {},
   "outputs": [],
   "source": [
    "mlflow.set_tracking_uri(\"http://localhost:5000\")"
   ]
  },
  {
   "cell_type": "code",
   "execution_count": 2,
   "metadata": {},
   "outputs": [
    {
     "name": "stdout",
     "output_type": "stream",
     "text": [
      "Train MSE: 4.874421563913713\n",
      "Test MSE: 5.055541144299385\n",
      "Test R2: 0.532984475772452\n"
     ]
    }
   ],
   "source": [
    "\"\"\"\n",
    "This script trains a linear regression model to predict the age of an abalone\n",
    "based on its physical characteristics. It uses the MLflow library to track\n",
    "experiments and log models.\n",
    "\n",
    "The main steps are:\n",
    "1. Load the data\n",
    "2. Prepare the data\n",
    "3. Split into training and testing sets\n",
    "4. Train the model\n",
    "5. Evaluate performance\n",
    "6. Log results to MLflow\n",
    "\n",
    "The model is trained with different alpha values to evaluate their impact on performance.\n",
    "\"\"\"\n",
    "\n",
    "import pandas as pd\n",
    "import numpy as np\n",
    "from sklearn.model_selection import train_test_split\n",
    "from sklearn.linear_model import LinearRegression\n",
    "from sklearn.metrics import mean_squared_error, r2_score\n",
    "import mlflow\n",
    "import mlflow.sklearn\n",
    "\n",
    "\n",
    "def load_data():\n",
    "    \"\"\"Loads the abalone dataset and performs necessary transformations.\"\"\"\n",
    "    df = pd.read_csv(\"../data/abalone.csv\")\n",
    "    df[\"Age\"] = df[\"Rings\"] + 1.5\n",
    "    X = df.drop(columns=[\"Rings\", \"Age\", \"Sex\"])\n",
    "    y = df[\"Age\"]\n",
    "    return X, y\n",
    "\n",
    "\n",
    "def split_data(X, y):\n",
    "    \"\"\"Splits the data into training and testing sets.\"\"\"\n",
    "    X_train, X_test, y_train, y_test = train_test_split(\n",
    "        X, y, test_size=0.2, random_state=42\n",
    "    )\n",
    "    return X_train, X_test, y_train, y_test\n",
    "\n",
    "\n",
    "def train_and_log(X_train, X_test, y_train, y_test, alpha):\n",
    "    \"\"\"Trains the model, evaluates its performance, and logs results to MLflow.\"\"\"\n",
    "    with mlflow.start_run():\n",
    "        model = LinearRegression()\n",
    "        model.fit(X_train, y_train)\n",
    "\n",
    "        y_pred_train = model.predict(X_train)\n",
    "        y_pred_test = model.predict(X_test)\n",
    "\n",
    "        train_mse = mean_squared_error(y_train, y_pred_train)\n",
    "        test_mse = mean_squared_error(y_test, y_pred_test)\n",
    "        test_r2 = r2_score(y_test, y_pred_test)\n",
    "\n",
    "        mlflow.log_metric(\"train_mse\", train_mse)\n",
    "        mlflow.log_metric(\"test_mse\", test_mse)\n",
    "        mlflow.log_metric(\"test_r2\", test_r2)\n",
    "        mlflow.log_param(\"alpha\", alpha)\n",
    "        mlflow.sklearn.log_model(model, \"linear_model\")\n",
    "\n",
    "        print(f\"Train MSE: {train_mse}\")\n",
    "        print(f\"Test MSE: {test_mse}\")\n",
    "        print(f\"Test R2: {test_r2}\")\n",
    "\n",
    "\n",
    "if __name__ == \"__main__\":\n",
    "    X, y = load_data()\n",
    "    X_train, X_test, y_train, y_test = split_data(X, y)\n",
    "    train_and_log(X_train, X_test, y_train, y_test, alpha=0.01)"
   ]
  }
 ],
 "metadata": {
  "kernelspec": {
   "display_name": "Python 3",
   "language": "python",
   "name": "python3"
  },
  "language_info": {
   "codemirror_mode": {
    "name": "ipython",
    "version": 3
   },
   "file_extension": ".py",
   "mimetype": "text/x-python",
   "name": "python",
   "nbconvert_exporter": "python",
   "pygments_lexer": "ipython3",
   "version": "3.10.0"
  },
  "orig_nbformat": 4
 },
 "nbformat": 4,
 "nbformat_minor": 2
}
